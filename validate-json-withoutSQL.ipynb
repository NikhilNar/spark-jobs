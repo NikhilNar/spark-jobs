{
 "cells": [
  {
   "cell_type": "code",
   "execution_count": 1,
   "metadata": {},
   "outputs": [],
   "source": [
    "jsonFile = spark.read.option(\"multiline\", \"true\").json(\n",
    "    '/user/ncn251/sample.json')"
   ]
  },
  {
   "cell_type": "code",
   "execution_count": 2,
   "metadata": {},
   "outputs": [],
   "source": [
    "state = jsonFile.select('state').collect()[0].state\n",
    "categories = jsonFile.select('categories').collect()[0].categories"
   ]
  },
  {
   "cell_type": "code",
   "execution_count": 3,
   "metadata": {},
   "outputs": [],
   "source": [
    "hasBusinessGarage = jsonFile.select('attributes').collect()[\n",
    "    0].attributes.BusinessParking.garage"
   ]
  },
  {
   "cell_type": "code",
   "execution_count": 4,
   "metadata": {},
   "outputs": [
    {
     "name": "stdout",
     "output_type": "stream",
     "text": [
      "All the conditions are not fulfilled\n"
     ]
    }
   ],
   "source": [
    "if state and 'Nightlife' in categories and hasBusinessGarage:\n",
    "    print(\"Business is in Arizona and is a nightlife and has a business garage\")\n",
    "else:\n",
    "    print(\"All the conditions are not fulfilled\")\n"
   ]
  },
  {
   "cell_type": "code",
   "execution_count": null,
   "metadata": {},
   "outputs": [],
   "source": []
  }
 ],
 "metadata": {
  "kernelspec": {
   "display_name": "Spark-2.3.0 / PySpark",
   "language": "python",
   "name": "python3"
  },
  "language_info": {
   "codemirror_mode": {
    "name": "ipython",
    "version": 3
   },
   "file_extension": ".py",
   "mimetype": "text/x-python",
   "name": "python",
   "nbconvert_exporter": "python",
   "pygments_lexer": "ipython3",
   "version": "3.6.5"
  }
 },
 "nbformat": 4,
 "nbformat_minor": 2
}
