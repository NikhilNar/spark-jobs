{
 "cells": [
  {
   "cell_type": "code",
   "execution_count": 1,
   "metadata": {},
   "outputs": [],
   "source": [
    "from pyspark import SparkConf"
   ]
  },
  {
   "cell_type": "code",
   "execution_count": 16,
   "metadata": {},
   "outputs": [],
   "source": [
    "\n",
    "rdd =sc.textFile('/user/ncn251/sample.json')\n",
    "jsonFile= spark.read.option(\"multiline\", \"true\").json('/user/ncn251/sample.json')\n"
   ]
  },
  {
   "cell_type": "code",
   "execution_count": 19,
   "metadata": {},
   "outputs": [
    {
     "name": "stdout",
     "output_type": "stream",
     "text": [
      "-RECORD 0----------------------------\n",
      " address      | 227 E Baseline Rd... \n",
      " attributes   | [true, false, tru... \n",
      " business_id  | 0DI8Dt2PJp07XkVvI... \n",
      " categories   | [Tobacco Shops, N... \n",
      " city         | Tempe                \n",
      " hours        | [Monday 11:0-21:0... \n",
      " is_open      | 0                    \n",
      " latitude     | 33.3782141           \n",
      " longitude    | -111.936102          \n",
      " name         | Innovative Vapors    \n",
      " neighborhood |                      \n",
      " postal_code  | 85283                \n",
      " review_count | 17                   \n",
      " stars        | 4.5                  \n",
      " state        | AZ                   \n",
      " type         | business             \n",
      "\n"
     ]
    }
   ],
   "source": [
    "jsonFile.show(vertical=True)"
   ]
  },
  {
   "cell_type": "code",
   "execution_count": 45,
   "metadata": {},
   "outputs": [
    {
     "name": "stdout",
     "output_type": "stream",
     "text": [
      "not success\n"
     ]
    }
   ],
   "source": [
    "if jsonFile.select('state').collect()[0].state=='AZ' and 'Nightlife' in jsonFile.select('categories').collect()[0].categories and jsonFile.select('attributes').collect()[0].attributes.BusinessParking.garage:\n",
    "    print(\"success\")\n",
    "else:\n",
    "    print(\"not success\")"
   ]
  },
  {
   "cell_type": "code",
   "execution_count": 30,
   "metadata": {},
   "outputs": [
    {
     "data": {
      "text/plain": [
       "'AZ'"
      ]
     },
     "execution_count": 30,
     "metadata": {},
     "output_type": "execute_result"
    }
   ],
   "source": [
    "jsonFile.select('state').collect()[0].state"
   ]
  },
  {
   "cell_type": "code",
   "execution_count": 32,
   "metadata": {},
   "outputs": [
    {
     "data": {
      "text/plain": [
       "['Tobacco Shops', 'Nightlife', 'Vape Shops', 'Shopping']"
      ]
     },
     "execution_count": 32,
     "metadata": {},
     "output_type": "execute_result"
    }
   ],
   "source": [
    "jsonFile.select('categories').collect()[0].categories"
   ]
  },
  {
   "cell_type": "code",
   "execution_count": 43,
   "metadata": {},
   "outputs": [
    {
     "data": {
      "text/plain": [
       "False"
      ]
     },
     "execution_count": 43,
     "metadata": {},
     "output_type": "execute_result"
    }
   ],
   "source": [
    "jsonFile.select('attributes').collect()[0].attributes.BusinessParking.garage"
   ]
  },
  {
   "cell_type": "code",
   "execution_count": null,
   "metadata": {},
   "outputs": [],
   "source": []
  }
 ],
 "metadata": {
  "kernelspec": {
   "display_name": "Spark-2.3.0 / PySpark",
   "language": "python",
   "name": "python3"
  },
  "language_info": {
   "codemirror_mode": {
    "name": "ipython",
    "version": 3
   },
   "file_extension": ".py",
   "mimetype": "text/x-python",
   "name": "python",
   "nbconvert_exporter": "python",
   "pygments_lexer": "ipython3",
   "version": "3.6.5"
  }
 },
 "nbformat": 4,
 "nbformat_minor": 2
}
