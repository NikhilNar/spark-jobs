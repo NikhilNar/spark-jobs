{
 "cells": [
  {
   "cell_type": "code",
   "execution_count": 31,
   "metadata": {},
   "outputs": [],
   "source": [
    "from pyspark import SparkConf, SparkContext\n",
    "from pyspark.ml.feature import Tokenizer, CountVectorizer, MinHashLSH\n",
    "from pyspark.sql.functions import col"
   ]
  },
  {
   "cell_type": "code",
   "execution_count": 32,
   "metadata": {},
   "outputs": [],
   "source": [
    "data= sc.wholeTextFiles('/user/ncn251/cookbook_text')"
   ]
  },
  {
   "cell_type": "code",
   "execution_count": 33,
   "metadata": {},
   "outputs": [],
   "source": [
    "df= data.toDF(['filename', 'content'])"
   ]
  },
  {
   "cell_type": "code",
   "execution_count": 34,
   "metadata": {},
   "outputs": [],
   "source": [
    "tokenizer = Tokenizer(inputCol=\"content\",outputCol=\"words\")\n",
    "wordsDf= tokenizer.transform(df)"
   ]
  },
  {
   "cell_type": "code",
   "execution_count": 35,
   "metadata": {},
   "outputs": [],
   "source": [
    "vocabSize=1000000\n",
    "Vector = CountVectorizer(inputCol=\"words\", outputCol=\"features\", vocabSize=vocabSize, minDF=10)"
   ]
  },
  {
   "cell_type": "code",
   "execution_count": 36,
   "metadata": {},
   "outputs": [],
   "source": [
    "model=Vector.fit(wordsDf)\n",
    "vectorizedDf=model.transform(wordsDf).select('filename', 'features')\n"
   ]
  },
  {
   "cell_type": "code",
   "execution_count": 37,
   "metadata": {},
   "outputs": [
    {
     "name": "stdout",
     "output_type": "stream",
     "text": [
      "+--------------------+--------------------+------------------+\n",
      "|            filename|            features|        hashValues|\n",
      "+--------------------+--------------------+------------------+\n",
      "|hdfs://dumbo/user...|(15582,[0,1,2,3,4...|[[-2.037789644E9]]|\n",
      "|hdfs://dumbo/user...|(15582,[0,1,2,3,4...|[[-2.037227404E9]]|\n",
      "|hdfs://dumbo/user...|(15582,[0,1,2,3,4...|[[-2.037931148E9]]|\n",
      "|hdfs://dumbo/user...|(15582,[0,1,2,3,4...|[[-2.037789644E9]]|\n",
      "|hdfs://dumbo/user...|(15582,[0,1,2,3,4...|[[-2.037227404E9]]|\n",
      "|hdfs://dumbo/user...|(15582,[0,1,2,3,4...|[[-2.037227404E9]]|\n",
      "|hdfs://dumbo/user...|(15582,[0,1,2,3,4...|[[-2.037789644E9]]|\n",
      "|hdfs://dumbo/user...|(15582,[0,1,2,3,4...|[[-2.037227404E9]]|\n",
      "|hdfs://dumbo/user...|(15582,[0,1,2,3,4...|[[-2.037368908E9]]|\n",
      "|hdfs://dumbo/user...|(15582,[0,1,2,3,4...|[[-2.037789644E9]]|\n",
      "|hdfs://dumbo/user...|(15582,[0,1,2,3,4...|[[-2.037931148E9]]|\n",
      "|hdfs://dumbo/user...|(15582,[0,1,2,3,4...|[[-2.035823692E9]]|\n",
      "|hdfs://dumbo/user...|(15582,[0,1,2,3,4...|[[-2.037789644E9]]|\n",
      "|hdfs://dumbo/user...|(15582,[0,1,2,3,4...|[[-2.036665164E9]]|\n",
      "|hdfs://dumbo/user...|(15582,[0,1,2,3,4...|[[-2.036665164E9]]|\n",
      "|hdfs://dumbo/user...|(15582,[0,1,2,3,4...|[[-2.037227404E9]]|\n",
      "|hdfs://dumbo/user...|(15582,[0,1,2,3,4...|[[-2.037931148E9]]|\n",
      "|hdfs://dumbo/user...|(15582,[0,1,2,3,4...|[[-2.037789644E9]]|\n",
      "|hdfs://dumbo/user...|(15582,[0,1,2,3,4...|[[-2.037227404E9]]|\n",
      "|hdfs://dumbo/user...|(15582,[0,1,2,3,4...|[[-2.037227404E9]]|\n",
      "+--------------------+--------------------+------------------+\n",
      "only showing top 20 rows\n",
      "\n"
     ]
    }
   ],
   "source": [
    "mh =MinHashLSH(inputCol=\"features\", outputCol=\"hashValues\")\n",
    "model= mh.fit(vectorizedDf)\n",
    "model.transform(vectorizedDf).show()"
   ]
  },
  {
   "cell_type": "code",
   "execution_count": 38,
   "metadata": {},
   "outputs": [],
   "source": [
    "threshold= 0.8\n",
    "output=model.approxSimilarityJoin(vectorizedDf, vectorizedDf, threshold)"
   ]
  },
  {
   "cell_type": "code",
   "execution_count": 39,
   "metadata": {},
   "outputs": [
    {
     "data": {
      "text/plain": [
       "['datasetA', 'datasetB', 'distCol']"
      ]
     },
     "execution_count": 39,
     "metadata": {},
     "output_type": "execute_result"
    }
   ],
   "source": [
    "output.columns"
   ]
  },
  {
   "cell_type": "code",
   "execution_count": 44,
   "metadata": {},
   "outputs": [],
   "source": [
    "similarityDf=output.select(col('datasetA.filename').alias('filename1'), col('datasetB.filename').alias('filename2'))"
   ]
  },
  {
   "cell_type": "code",
   "execution_count": 45,
   "metadata": {},
   "outputs": [
    {
     "ename": "AttributeError",
     "evalue": "'list' object has no attribute 'toPandas'",
     "output_type": "error",
     "traceback": [
      "\u001b[0;31m---------------------------------------------------------------------------\u001b[0m",
      "\u001b[0;31mAttributeError\u001b[0m                            Traceback (most recent call last)",
      "\u001b[0;32m<ipython-input-45-b4d77ab651fe>\u001b[0m in \u001b[0;36m<module>\u001b[0;34m\u001b[0m\n\u001b[0;32m----> 1\u001b[0;31m \u001b[0msimilarityDf\u001b[0m\u001b[0;34m.\u001b[0m\u001b[0mtoPandas\u001b[0m\u001b[0;34m(\u001b[0m\u001b[0;34m)\u001b[0m\u001b[0;34m.\u001b[0m\u001b[0mto_csv\u001b[0m\u001b[0;34m(\u001b[0m\u001b[0;34m'similarity.csv'\u001b[0m\u001b[0;34m,\u001b[0m \u001b[0mheader\u001b[0m\u001b[0;34m=\u001b[0m\u001b[0;32mTrue\u001b[0m\u001b[0;34m)\u001b[0m\u001b[0;34m\u001b[0m\u001b[0m\n\u001b[0m",
      "\u001b[0;31mAttributeError\u001b[0m: 'list' object has no attribute 'toPandas'"
     ]
    }
   ],
   "source": [
    "similarityDf.toPandas().to_csv('similarity.csv', header=True)"
   ]
  },
  {
   "cell_type": "code",
   "execution_count": 41,
   "metadata": {},
   "outputs": [],
   "source": []
  },
  {
   "cell_type": "code",
   "execution_count": null,
   "metadata": {},
   "outputs": [],
   "source": []
  }
 ],
 "metadata": {
  "kernelspec": {
   "display_name": "Spark-2.3.0 / PySpark",
   "language": "python",
   "name": "python3"
  },
  "language_info": {
   "codemirror_mode": {
    "name": "ipython",
    "version": 3
   },
   "file_extension": ".py",
   "mimetype": "text/x-python",
   "name": "python",
   "nbconvert_exporter": "python",
   "pygments_lexer": "ipython3",
   "version": "3.6.5"
  }
 },
 "nbformat": 4,
 "nbformat_minor": 2
}
