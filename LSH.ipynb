{
 "cells": [
  {
   "cell_type": "code",
   "execution_count": 1,
   "metadata": {},
   "outputs": [],
   "source": [
    "from pyspark import SparkConf, SparkContext\n",
    "from pyspark.ml.feature import Tokenizer, CountVectorizer, MinHashLSH\n",
    "from pyspark.sql.functions import col"
   ]
  },
  {
   "cell_type": "code",
   "execution_count": 2,
   "metadata": {},
   "outputs": [],
   "source": [
    "data= sc.wholeTextFiles('/user/ncn251/cookbook_text')"
   ]
  },
  {
   "cell_type": "code",
   "execution_count": 3,
   "metadata": {},
   "outputs": [],
   "source": [
    "df= data.toDF(['filename', 'content'])"
   ]
  },
  {
   "cell_type": "code",
   "execution_count": 4,
   "metadata": {},
   "outputs": [],
   "source": [
    "tokenizer = Tokenizer(inputCol=\"content\",outputCol=\"words\")\n",
    "wordsDf= tokenizer.transform(df)"
   ]
  },
  {
   "cell_type": "code",
   "execution_count": 5,
   "metadata": {},
   "outputs": [],
   "source": [
    "vocabSize=1000000\n",
    "Vector = CountVectorizer(inputCol=\"words\", outputCol=\"features\", vocabSize=vocabSize, minDF=10)"
   ]
  },
  {
   "cell_type": "code",
   "execution_count": 6,
   "metadata": {},
   "outputs": [],
   "source": [
    "model=Vector.fit(wordsDf)\n",
    "vectorizedDf=model.transform(wordsDf).select('filename', 'features')\n"
   ]
  },
  {
   "cell_type": "code",
   "execution_count": 7,
   "metadata": {},
   "outputs": [
    {
     "name": "stdout",
     "output_type": "stream",
     "text": [
      "+--------------------+--------------------+------------------+\n",
      "|            filename|            features|        hashValues|\n",
      "+--------------------+--------------------+------------------+\n",
      "|hdfs://dumbo/user...|(15582,[0,1,2,3,4...|[[-2.038051916E9]]|\n",
      "|hdfs://dumbo/user...|(15582,[0,1,2,3,4...| [[-2.03725558E9]]|\n",
      "|hdfs://dumbo/user...|(15582,[0,1,2,3,4...|[[-2.037521916E9]]|\n",
      "|hdfs://dumbo/user...|(15582,[0,1,2,3,4...| [[-2.03725558E9]]|\n",
      "|hdfs://dumbo/user...|(15582,[0,1,2,3,4...|[[-2.038051916E9]]|\n",
      "|hdfs://dumbo/user...|(15582,[0,1,2,3,4...| [[-2.03725558E9]]|\n",
      "|hdfs://dumbo/user...|(15582,[0,1,2,3,4...|[[-2.038051916E9]]|\n",
      "|hdfs://dumbo/user...|(15582,[0,1,2,3,4...|[[-2.038051916E9]]|\n",
      "|hdfs://dumbo/user...|(15582,[0,1,2,3,4...|[[-2.037788252E9]]|\n",
      "|hdfs://dumbo/user...|(15582,[0,1,2,3,4...|[[-2.037521916E9]]|\n",
      "|hdfs://dumbo/user...|(15582,[0,1,2,3,4...|[[-2.036991916E9]]|\n",
      "|hdfs://dumbo/user...|(15582,[0,1,2,3,4...|[[-2.037521916E9]]|\n",
      "|hdfs://dumbo/user...|(15582,[0,1,2,3,4...|[[-2.038051916E9]]|\n",
      "|hdfs://dumbo/user...|(15582,[0,1,2,3,4...| [[-2.03725558E9]]|\n",
      "|hdfs://dumbo/user...|(15582,[0,1,2,3,4...| [[-2.03725558E9]]|\n",
      "|hdfs://dumbo/user...|(15582,[0,1,2,3,4...| [[-2.03725558E9]]|\n",
      "|hdfs://dumbo/user...|(15582,[0,1,2,3,4...|[[-2.033279244E9]]|\n",
      "|hdfs://dumbo/user...|(15582,[0,1,2,3,4...| [[-2.03672558E9]]|\n",
      "|hdfs://dumbo/user...|(15582,[0,1,2,3,4...|[[-2.038051916E9]]|\n",
      "|hdfs://dumbo/user...|(15582,[0,1,2,3,4...| [[-2.03725558E9]]|\n",
      "+--------------------+--------------------+------------------+\n",
      "only showing top 20 rows\n",
      "\n"
     ]
    }
   ],
   "source": [
    "mh =MinHashLSH(inputCol=\"features\", outputCol=\"hashValues\")\n",
    "model= mh.fit(vectorizedDf)\n",
    "model.transform(vectorizedDf).show()"
   ]
  },
  {
   "cell_type": "code",
   "execution_count": 8,
   "metadata": {},
   "outputs": [],
   "source": [
    "threshold= 0.8\n",
    "output=model.approxSimilarityJoin(vectorizedDf, vectorizedDf, threshold)"
   ]
  },
  {
   "cell_type": "code",
   "execution_count": 9,
   "metadata": {},
   "outputs": [
    {
     "data": {
      "text/plain": [
       "['datasetA', 'datasetB', 'distCol']"
      ]
     },
     "execution_count": 9,
     "metadata": {},
     "output_type": "execute_result"
    }
   ],
   "source": [
    "output.columns"
   ]
  },
  {
   "cell_type": "code",
   "execution_count": 10,
   "metadata": {},
   "outputs": [],
   "source": [
    "similarityDf=output.select(col('datasetA.filename').alias('filename1'), col('datasetB.filename').alias('filename2'))"
   ]
  },
  {
   "cell_type": "code",
   "execution_count": 11,
   "metadata": {},
   "outputs": [],
   "source": [
    "similarityDf.toPandas().to_csv('similarity.csv', header=True)"
   ]
  },
  {
   "cell_type": "code",
   "execution_count": 41,
   "metadata": {},
   "outputs": [],
   "source": []
  },
  {
   "cell_type": "code",
   "execution_count": null,
   "metadata": {},
   "outputs": [],
   "source": []
  }
 ],
 "metadata": {
  "kernelspec": {
   "display_name": "Spark-2.3.0 / PySpark",
   "language": "python",
   "name": "python3"
  },
  "language_info": {
   "codemirror_mode": {
    "name": "ipython",
    "version": 3
   },
   "file_extension": ".py",
   "mimetype": "text/x-python",
   "name": "python",
   "nbconvert_exporter": "python",
   "pygments_lexer": "ipython3",
   "version": "3.6.5"
  }
 },
 "nbformat": 4,
 "nbformat_minor": 2
}
